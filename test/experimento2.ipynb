{
 "cells": [
  {
   "cell_type": "code",
   "execution_count": 1,
   "metadata": {},
   "outputs": [],
   "source": [
    "from sklearn.manifold import MDS\n",
    "import sys\n",
    "import ipywidgets\n",
    "\n",
    "from mathchords.io import ExperimentHandler\n",
    "from mathchords.functions.characteristics import process\n",
    "\n",
    "import mathchords.functions.gen_chords as gen\n",
    "import mathchords.functions.clustering as cg\n",
    "import mathchords.functions.characteristics as ce\n",
    "import numpy as np\n",
    "import mathchords.constans\n",
    "from mathchords.constans import SCALES"
   ]
  },
  {
   "cell_type": "code",
   "execution_count": 2,
   "metadata": {},
   "outputs": [
    {
     "data": {
      "text/plain": [
       "9"
      ]
     },
     "execution_count": 2,
     "metadata": {},
     "output_type": "execute_result"
    }
   ],
   "source": [
    "reference_points=gen.Simula_inversiones(mathchords.constans.DO_basic_chords)\n",
    "len(reference_points)"
   ]
  },
  {
   "cell_type": "code",
   "execution_count": 3,
   "metadata": {},
   "outputs": [],
   "source": [
    "def separate_chords(chords):\n",
    "    triads = []\n",
    "    tetrads = []\n",
    "    \n",
    "    for chord in chords:\n",
    "        if len(chord['intervals']) == 2:  # Las triadas tienen 2 intervalos (3 notas en total)\n",
    "            triads.append(chord)\n",
    "        elif len(chord['intervals']) == 3:  # Los acordes de 4 notas tienen 3 intervalos (4 notas en total)\n",
    "            tetrads.append(chord)\n",
    "    \n",
    "    return triads, tetrads\n",
    "\n",
    "#triads, tetrads=separate_chords(mathchords.constans.DO_chords)\n",
    "triads, tetrads=separate_chords(reference_points)\n",
    "\n"
   ]
  },
  {
   "cell_type": "code",
   "execution_count": 4,
   "metadata": {},
   "outputs": [
    {
     "name": "stdout",
     "output_type": "stream",
     "text": [
      "261.6255653005986 329.6275569128699 0.3703907255508495\n",
      "261.6255653005986 391.99543598174927 0.0521266964234618\n",
      "329.6275569128699 391.99543598174927 0.4741198056768632\n",
      "329.6275569128699 391.99543598174927 0.4741198056768632\n",
      "329.6275569128699 523.2511306011972 0.00878685307938039\n",
      "391.99543598174927 523.2511306011972 0.07798994489402729\n",
      "391.99543598174927 523.2511306011972 0.07798994489402729\n",
      "391.99543598174927 659.2551138257398 0.0012172647761089065\n",
      "523.2511306011972 659.2551138257398 0.09767088023539988\n",
      "261.6255653005986 311.1269837220809 0.6003738720888554\n",
      "261.6255653005986 391.99543598174927 0.0521266964234618\n",
      "311.1269837220809 391.99543598174927 0.28035027673272617\n",
      "311.1269837220809 391.99543598174927 0.28035027673272617\n",
      "311.1269837220809 523.2511306011972 0.004352817647162897\n",
      "391.99543598174927 523.2511306011972 0.07798994489402729\n",
      "391.99543598174927 523.2511306011972 0.07798994489402729\n",
      "391.99543598174927 622.2539674441618 0.0038284265538862687\n",
      "523.2511306011972 622.2539674441618 0.25324402594099443\n",
      "261.6255653005986 311.1269837220809 0.6003738720888554\n",
      "261.6255653005986 369.9944227116344 0.10733635879192839\n",
      "311.1269837220809 369.9944227116344 0.5055475368563775\n",
      "311.1269837220809 369.9944227116344 0.5055475368563775\n",
      "311.1269837220809 523.2511306011972 0.004352817647162897\n",
      "369.9944227116344 523.2511306011972 0.037367482919421144\n",
      "369.9944227116344 523.2511306011972 0.037367482919421144\n",
      "369.9944227116344 622.2539674441618 0.0016953031076046155\n",
      "523.2511306011972 622.2539674441618 0.25324402594099443\n"
     ]
    }
   ],
   "source": [
    "BASE_PATH = \"../data/\"\n",
    "handler = ExperimentHandler(BASE_PATH)\n",
    "datos=ce.create_experiment_dict(triads)\n",
    "#datos=ce.create_experiment_dict(tetrads)\n",
    "\n",
    "chords=datos['chords']\n",
    "results_structure=ce.process( datos, ce.transpose_to_zero)['results']\n",
    "results_intervals_theory=ce.process(datos, ce.interval_vector)['results']\n",
    "results_intervals_histo_12=ce.process(datos, ce.interval_histogram_with_dissmeasure)['results']\n",
    "results_binary_notes=ce.process(datos, ce.binary_pitch_class_set)['results']\n",
    "results_binary_intervals_12=ce.process(datos, ce.interval_histogram)['results']\n",
    "results_polar_notes=ce.process(datos, ce.polar_pitch_classes)['results']\n",
    "#results_polar_degree=ce.polar_degree(datos)\n",
    "#print(results_intervals_theory.keys())\n",
    "chord_ids = list(results_intervals_theory.keys())\n",
    "def perform_mds(data, n_components=2):\n",
    "    mds = MDS(n_components=n_components,  max_iter=30000,eps=1e-16)\n",
    "    val=mds.fit_transform(data)\n",
    "    print(mds.n_iter_,mds.stress_)\n",
    "    return val,mds.dissimilarity_matrix_"
   ]
  },
  {
   "cell_type": "code",
   "execution_count": 5,
   "metadata": {},
   "outputs": [
    {
     "name": "stdout",
     "output_type": "stream",
     "text": [
      "[[0, 0, 1, 1, 1, 0], [0, 0, 1, 1, 1, 0], [0, 0, 1, 1, 1, 0], [0, 0, 1, 1, 1, 0], [0, 0, 1, 1, 1, 0], [0, 0, 1, 1, 1, 0], [0, 0, 2, 0, 0, 1], [0, 0, 2, 0, 0, 1], [0, 0, 2, 0, 0, 1]]\n"
     ]
    },
    {
     "name": "stdout",
     "output_type": "stream",
     "text": [
      "Número de iteraciones: 51, Stress: 6.661338147750945e-16\n",
      "['C', 'C/E', 'C/G', 'Cm', 'Cm/D#', 'Cm/G', 'Cdim', 'Cdim/D#', 'Cdim/F#']\n"
     ]
    },
    {
     "data": {
      "application/vnd.jupyter.widget-view+json": {
       "model_id": "19398094d346432cb15a464841c9fe6b",
       "version_major": 2,
       "version_minor": 0
      },
      "text/plain": [
       "Dropdown(description='Chord ID:', options=(('Chord ID: chord_0, C', 'chord_0'), ('Chord ID: chord_1, C/E', 'ch…"
      ]
     },
     "metadata": {},
     "output_type": "display_data"
    },
    {
     "data": {
      "application/vnd.jupyter.widget-view+json": {
       "model_id": "61603b2be3d043bf86093cf3c3234d26",
       "version_major": 2,
       "version_minor": 0
      },
      "text/plain": [
       "FigureWidget({\n",
       "    'data': [{'hoverinfo': 'text',\n",
       "              'hovertext': [Root: C<br>Bass: C<br>Octave: 4<br>Degree:\n",
       "                            1<br>Intervals: [4, 3], Root: C<br>Bass: E<br>Octave:\n",
       "                            4<br>Degree: 1<br>Intervals: [4, 3], Root: C<br>Bass:\n",
       "                            G<br>Octave: 4<br>Degree: 1<br>Intervals: [4, 3], Root:\n",
       "                            C<br>Bass: C<br>Octave: 4<br>Degree: 1<br>Intervals:\n",
       "                            [3, 4], Root: C<br>Bass: D#<br>Octave: 4<br>Degree:\n",
       "                            1<br>Intervals: [3, 4], Root: C<br>Bass: G<br>Octave:\n",
       "                            4<br>Degree: 1<br>Intervals: [3, 4], Root: C<br>Bass:\n",
       "                            C<br>Octave: 4<br>Degree: 1<br>Intervals: [3, 3], Root:\n",
       "                            C<br>Bass: D#<br>Octave: 4<br>Degree: 1<br>Intervals:\n",
       "                            [3, 3], Root: C<br>Bass: F#<br>Octave: 4<br>Degree:\n",
       "                            1<br>Intervals: [3, 3]],\n",
       "              'marker': {'color': [black, black, black, black, black, black,\n",
       "                                   black, black, black],\n",
       "                         'size': 13,\n",
       "                         'symbol': [circle, circle, circle, circle, circle,\n",
       "                                    circle, circle, circle, circle]},\n",
       "              'mode': 'markers+text',\n",
       "              'text': [C, C/E, C/G, Cm, Cm/D#, Cm/G, Cdim, Cdim/D#, Cdim/F#],\n",
       "              'textposition': 'top center',\n",
       "              'type': 'scatter',\n",
       "              'uid': '3d05ab42-82d3-409b-b17f-60f4685db89e',\n",
       "              'x': array([ 0.53982189,  0.53982189,  0.53982189,  0.53982189,  0.53982189,\n",
       "                           0.53982189, -1.07964378, -1.07964378, -1.07964378]),\n",
       "              'y': array([-0.39119915, -0.39119915, -0.39119915, -0.39119915, -0.39119915,\n",
       "                          -0.39119915,  0.78239829,  0.78239829,  0.7823983 ])}],\n",
       "    'layout': {'autosize': False,\n",
       "               'height': 800,\n",
       "               'showlegend': False,\n",
       "               'template': '...',\n",
       "               'title': {'text': 'Chord Representation (2D)'},\n",
       "               'width': 800,\n",
       "               'xaxis': {'autorange': False, 'range': [-2.0796437842072963, 1.5398218901765586], 'title': {'text': ''}},\n",
       "               'yaxis': {'autorange': False,\n",
       "                         'range': [-1.3911991453603294, 1.7823982960329916],\n",
       "                         'scaleanchor': 'x',\n",
       "                         'scaleratio': 1,\n",
       "                         'title': {'text': ''}}}\n",
       "})"
      ]
     },
     "metadata": {},
     "output_type": "display_data"
    },
    {
     "data": {
      "application/vnd.plotly.v1+json": {
       "config": {
        "plotlyServerURL": "https://plot.ly"
       },
       "data": [
        {
         "coloraxis": "coloraxis",
         "hovertemplate": "x: %{x}<br>y: %{y}<br>Dissimilarity: %{z}<extra></extra>",
         "name": "0",
         "type": "heatmap",
         "x": [
          "C",
          "C/E",
          "C/G",
          "Cm",
          "Cm/D#",
          "Cm/G",
          "Cdim",
          "Cdim/D#",
          "Cdim/F#"
         ],
         "xaxis": "x",
         "y": [
          "C",
          "C/E",
          "C/G",
          "Cm",
          "Cm/D#",
          "Cm/G",
          "Cdim",
          "Cdim/D#",
          "Cdim/F#"
         ],
         "yaxis": "y",
         "z": [
          [
           0,
           0,
           0,
           0,
           0,
           0,
           2,
           2,
           2
          ],
          [
           0,
           0,
           0,
           0,
           0,
           0,
           2,
           2,
           2
          ],
          [
           0,
           0,
           0,
           0,
           0,
           0,
           2,
           2,
           2
          ],
          [
           0,
           0,
           0,
           0,
           0,
           0,
           2,
           2,
           2
          ],
          [
           0,
           0,
           0,
           0,
           0,
           0,
           2,
           2,
           2
          ],
          [
           0,
           0,
           0,
           0,
           0,
           0,
           2,
           2,
           2
          ],
          [
           2,
           2,
           2,
           2,
           2,
           2,
           0,
           0,
           0
          ],
          [
           2,
           2,
           2,
           2,
           2,
           2,
           0,
           0,
           0
          ],
          [
           2,
           2,
           2,
           2,
           2,
           2,
           0,
           0,
           0
          ]
         ]
        }
       ],
       "layout": {
        "autosize": false,
        "coloraxis": {
         "colorbar": {
          "len": 0.55,
          "title": {
           "text": "Dissimilarity"
          },
          "x": 1.1
         },
         "colorscale": [
          [
           0,
           "#0d0887"
          ],
          [
           0.1111111111111111,
           "#46039f"
          ],
          [
           0.2222222222222222,
           "#7201a8"
          ],
          [
           0.3333333333333333,
           "#9c179e"
          ],
          [
           0.4444444444444444,
           "#bd3786"
          ],
          [
           0.5555555555555556,
           "#d8576b"
          ],
          [
           0.6666666666666666,
           "#ed7953"
          ],
          [
           0.7777777777777778,
           "#fb9f3a"
          ],
          [
           0.8888888888888888,
           "#fdca26"
          ],
          [
           1,
           "#f0f921"
          ]
         ]
        },
        "height": 800,
        "margin": {
         "b": 100,
         "l": 50,
         "pad": 4,
         "r": 50,
         "t": 100
        },
        "template": {
         "data": {
          "bar": [
           {
            "error_x": {
             "color": "#2a3f5f"
            },
            "error_y": {
             "color": "#2a3f5f"
            },
            "marker": {
             "line": {
              "color": "#E5ECF6",
              "width": 0.5
             },
             "pattern": {
              "fillmode": "overlay",
              "size": 10,
              "solidity": 0.2
             }
            },
            "type": "bar"
           }
          ],
          "barpolar": [
           {
            "marker": {
             "line": {
              "color": "#E5ECF6",
              "width": 0.5
             },
             "pattern": {
              "fillmode": "overlay",
              "size": 10,
              "solidity": 0.2
             }
            },
            "type": "barpolar"
           }
          ],
          "carpet": [
           {
            "aaxis": {
             "endlinecolor": "#2a3f5f",
             "gridcolor": "white",
             "linecolor": "white",
             "minorgridcolor": "white",
             "startlinecolor": "#2a3f5f"
            },
            "baxis": {
             "endlinecolor": "#2a3f5f",
             "gridcolor": "white",
             "linecolor": "white",
             "minorgridcolor": "white",
             "startlinecolor": "#2a3f5f"
            },
            "type": "carpet"
           }
          ],
          "choropleth": [
           {
            "colorbar": {
             "outlinewidth": 0,
             "ticks": ""
            },
            "type": "choropleth"
           }
          ],
          "contour": [
           {
            "colorbar": {
             "outlinewidth": 0,
             "ticks": ""
            },
            "colorscale": [
             [
              0,
              "#0d0887"
             ],
             [
              0.1111111111111111,
              "#46039f"
             ],
             [
              0.2222222222222222,
              "#7201a8"
             ],
             [
              0.3333333333333333,
              "#9c179e"
             ],
             [
              0.4444444444444444,
              "#bd3786"
             ],
             [
              0.5555555555555556,
              "#d8576b"
             ],
             [
              0.6666666666666666,
              "#ed7953"
             ],
             [
              0.7777777777777778,
              "#fb9f3a"
             ],
             [
              0.8888888888888888,
              "#fdca26"
             ],
             [
              1,
              "#f0f921"
             ]
            ],
            "type": "contour"
           }
          ],
          "contourcarpet": [
           {
            "colorbar": {
             "outlinewidth": 0,
             "ticks": ""
            },
            "type": "contourcarpet"
           }
          ],
          "heatmap": [
           {
            "colorbar": {
             "outlinewidth": 0,
             "ticks": ""
            },
            "colorscale": [
             [
              0,
              "#0d0887"
             ],
             [
              0.1111111111111111,
              "#46039f"
             ],
             [
              0.2222222222222222,
              "#7201a8"
             ],
             [
              0.3333333333333333,
              "#9c179e"
             ],
             [
              0.4444444444444444,
              "#bd3786"
             ],
             [
              0.5555555555555556,
              "#d8576b"
             ],
             [
              0.6666666666666666,
              "#ed7953"
             ],
             [
              0.7777777777777778,
              "#fb9f3a"
             ],
             [
              0.8888888888888888,
              "#fdca26"
             ],
             [
              1,
              "#f0f921"
             ]
            ],
            "type": "heatmap"
           }
          ],
          "heatmapgl": [
           {
            "colorbar": {
             "outlinewidth": 0,
             "ticks": ""
            },
            "colorscale": [
             [
              0,
              "#0d0887"
             ],
             [
              0.1111111111111111,
              "#46039f"
             ],
             [
              0.2222222222222222,
              "#7201a8"
             ],
             [
              0.3333333333333333,
              "#9c179e"
             ],
             [
              0.4444444444444444,
              "#bd3786"
             ],
             [
              0.5555555555555556,
              "#d8576b"
             ],
             [
              0.6666666666666666,
              "#ed7953"
             ],
             [
              0.7777777777777778,
              "#fb9f3a"
             ],
             [
              0.8888888888888888,
              "#fdca26"
             ],
             [
              1,
              "#f0f921"
             ]
            ],
            "type": "heatmapgl"
           }
          ],
          "histogram": [
           {
            "marker": {
             "pattern": {
              "fillmode": "overlay",
              "size": 10,
              "solidity": 0.2
             }
            },
            "type": "histogram"
           }
          ],
          "histogram2d": [
           {
            "colorbar": {
             "outlinewidth": 0,
             "ticks": ""
            },
            "colorscale": [
             [
              0,
              "#0d0887"
             ],
             [
              0.1111111111111111,
              "#46039f"
             ],
             [
              0.2222222222222222,
              "#7201a8"
             ],
             [
              0.3333333333333333,
              "#9c179e"
             ],
             [
              0.4444444444444444,
              "#bd3786"
             ],
             [
              0.5555555555555556,
              "#d8576b"
             ],
             [
              0.6666666666666666,
              "#ed7953"
             ],
             [
              0.7777777777777778,
              "#fb9f3a"
             ],
             [
              0.8888888888888888,
              "#fdca26"
             ],
             [
              1,
              "#f0f921"
             ]
            ],
            "type": "histogram2d"
           }
          ],
          "histogram2dcontour": [
           {
            "colorbar": {
             "outlinewidth": 0,
             "ticks": ""
            },
            "colorscale": [
             [
              0,
              "#0d0887"
             ],
             [
              0.1111111111111111,
              "#46039f"
             ],
             [
              0.2222222222222222,
              "#7201a8"
             ],
             [
              0.3333333333333333,
              "#9c179e"
             ],
             [
              0.4444444444444444,
              "#bd3786"
             ],
             [
              0.5555555555555556,
              "#d8576b"
             ],
             [
              0.6666666666666666,
              "#ed7953"
             ],
             [
              0.7777777777777778,
              "#fb9f3a"
             ],
             [
              0.8888888888888888,
              "#fdca26"
             ],
             [
              1,
              "#f0f921"
             ]
            ],
            "type": "histogram2dcontour"
           }
          ],
          "mesh3d": [
           {
            "colorbar": {
             "outlinewidth": 0,
             "ticks": ""
            },
            "type": "mesh3d"
           }
          ],
          "parcoords": [
           {
            "line": {
             "colorbar": {
              "outlinewidth": 0,
              "ticks": ""
             }
            },
            "type": "parcoords"
           }
          ],
          "pie": [
           {
            "automargin": true,
            "type": "pie"
           }
          ],
          "scatter": [
           {
            "fillpattern": {
             "fillmode": "overlay",
             "size": 10,
             "solidity": 0.2
            },
            "type": "scatter"
           }
          ],
          "scatter3d": [
           {
            "line": {
             "colorbar": {
              "outlinewidth": 0,
              "ticks": ""
             }
            },
            "marker": {
             "colorbar": {
              "outlinewidth": 0,
              "ticks": ""
             }
            },
            "type": "scatter3d"
           }
          ],
          "scattercarpet": [
           {
            "marker": {
             "colorbar": {
              "outlinewidth": 0,
              "ticks": ""
             }
            },
            "type": "scattercarpet"
           }
          ],
          "scattergeo": [
           {
            "marker": {
             "colorbar": {
              "outlinewidth": 0,
              "ticks": ""
             }
            },
            "type": "scattergeo"
           }
          ],
          "scattergl": [
           {
            "marker": {
             "colorbar": {
              "outlinewidth": 0,
              "ticks": ""
             }
            },
            "type": "scattergl"
           }
          ],
          "scattermapbox": [
           {
            "marker": {
             "colorbar": {
              "outlinewidth": 0,
              "ticks": ""
             }
            },
            "type": "scattermapbox"
           }
          ],
          "scatterpolar": [
           {
            "marker": {
             "colorbar": {
              "outlinewidth": 0,
              "ticks": ""
             }
            },
            "type": "scatterpolar"
           }
          ],
          "scatterpolargl": [
           {
            "marker": {
             "colorbar": {
              "outlinewidth": 0,
              "ticks": ""
             }
            },
            "type": "scatterpolargl"
           }
          ],
          "scatterternary": [
           {
            "marker": {
             "colorbar": {
              "outlinewidth": 0,
              "ticks": ""
             }
            },
            "type": "scatterternary"
           }
          ],
          "surface": [
           {
            "colorbar": {
             "outlinewidth": 0,
             "ticks": ""
            },
            "colorscale": [
             [
              0,
              "#0d0887"
             ],
             [
              0.1111111111111111,
              "#46039f"
             ],
             [
              0.2222222222222222,
              "#7201a8"
             ],
             [
              0.3333333333333333,
              "#9c179e"
             ],
             [
              0.4444444444444444,
              "#bd3786"
             ],
             [
              0.5555555555555556,
              "#d8576b"
             ],
             [
              0.6666666666666666,
              "#ed7953"
             ],
             [
              0.7777777777777778,
              "#fb9f3a"
             ],
             [
              0.8888888888888888,
              "#fdca26"
             ],
             [
              1,
              "#f0f921"
             ]
            ],
            "type": "surface"
           }
          ],
          "table": [
           {
            "cells": {
             "fill": {
              "color": "#EBF0F8"
             },
             "line": {
              "color": "white"
             }
            },
            "header": {
             "fill": {
              "color": "#C8D4E3"
             },
             "line": {
              "color": "white"
             }
            },
            "type": "table"
           }
          ]
         },
         "layout": {
          "annotationdefaults": {
           "arrowcolor": "#2a3f5f",
           "arrowhead": 0,
           "arrowwidth": 1
          },
          "autotypenumbers": "strict",
          "coloraxis": {
           "colorbar": {
            "outlinewidth": 0,
            "ticks": ""
           }
          },
          "colorscale": {
           "diverging": [
            [
             0,
             "#8e0152"
            ],
            [
             0.1,
             "#c51b7d"
            ],
            [
             0.2,
             "#de77ae"
            ],
            [
             0.3,
             "#f1b6da"
            ],
            [
             0.4,
             "#fde0ef"
            ],
            [
             0.5,
             "#f7f7f7"
            ],
            [
             0.6,
             "#e6f5d0"
            ],
            [
             0.7,
             "#b8e186"
            ],
            [
             0.8,
             "#7fbc41"
            ],
            [
             0.9,
             "#4d9221"
            ],
            [
             1,
             "#276419"
            ]
           ],
           "sequential": [
            [
             0,
             "#0d0887"
            ],
            [
             0.1111111111111111,
             "#46039f"
            ],
            [
             0.2222222222222222,
             "#7201a8"
            ],
            [
             0.3333333333333333,
             "#9c179e"
            ],
            [
             0.4444444444444444,
             "#bd3786"
            ],
            [
             0.5555555555555556,
             "#d8576b"
            ],
            [
             0.6666666666666666,
             "#ed7953"
            ],
            [
             0.7777777777777778,
             "#fb9f3a"
            ],
            [
             0.8888888888888888,
             "#fdca26"
            ],
            [
             1,
             "#f0f921"
            ]
           ],
           "sequentialminus": [
            [
             0,
             "#0d0887"
            ],
            [
             0.1111111111111111,
             "#46039f"
            ],
            [
             0.2222222222222222,
             "#7201a8"
            ],
            [
             0.3333333333333333,
             "#9c179e"
            ],
            [
             0.4444444444444444,
             "#bd3786"
            ],
            [
             0.5555555555555556,
             "#d8576b"
            ],
            [
             0.6666666666666666,
             "#ed7953"
            ],
            [
             0.7777777777777778,
             "#fb9f3a"
            ],
            [
             0.8888888888888888,
             "#fdca26"
            ],
            [
             1,
             "#f0f921"
            ]
           ]
          },
          "colorway": [
           "#636efa",
           "#EF553B",
           "#00cc96",
           "#ab63fa",
           "#FFA15A",
           "#19d3f3",
           "#FF6692",
           "#B6E880",
           "#FF97FF",
           "#FECB52"
          ],
          "font": {
           "color": "#2a3f5f"
          },
          "geo": {
           "bgcolor": "white",
           "lakecolor": "white",
           "landcolor": "#E5ECF6",
           "showlakes": true,
           "showland": true,
           "subunitcolor": "white"
          },
          "hoverlabel": {
           "align": "left"
          },
          "hovermode": "closest",
          "mapbox": {
           "style": "light"
          },
          "paper_bgcolor": "white",
          "plot_bgcolor": "#E5ECF6",
          "polar": {
           "angularaxis": {
            "gridcolor": "white",
            "linecolor": "white",
            "ticks": ""
           },
           "bgcolor": "#E5ECF6",
           "radialaxis": {
            "gridcolor": "white",
            "linecolor": "white",
            "ticks": ""
           }
          },
          "scene": {
           "xaxis": {
            "backgroundcolor": "#E5ECF6",
            "gridcolor": "white",
            "gridwidth": 2,
            "linecolor": "white",
            "showbackground": true,
            "ticks": "",
            "zerolinecolor": "white"
           },
           "yaxis": {
            "backgroundcolor": "#E5ECF6",
            "gridcolor": "white",
            "gridwidth": 2,
            "linecolor": "white",
            "showbackground": true,
            "ticks": "",
            "zerolinecolor": "white"
           },
           "zaxis": {
            "backgroundcolor": "#E5ECF6",
            "gridcolor": "white",
            "gridwidth": 2,
            "linecolor": "white",
            "showbackground": true,
            "ticks": "",
            "zerolinecolor": "white"
           }
          },
          "shapedefaults": {
           "line": {
            "color": "#2a3f5f"
           }
          },
          "ternary": {
           "aaxis": {
            "gridcolor": "white",
            "linecolor": "white",
            "ticks": ""
           },
           "baxis": {
            "gridcolor": "white",
            "linecolor": "white",
            "ticks": ""
           },
           "bgcolor": "#E5ECF6",
           "caxis": {
            "gridcolor": "white",
            "linecolor": "white",
            "ticks": ""
           }
          },
          "title": {
           "x": 0.05
          },
          "xaxis": {
           "automargin": true,
           "gridcolor": "white",
           "linecolor": "white",
           "ticks": "",
           "title": {
            "standoff": 15
           },
           "zerolinecolor": "white",
           "zerolinewidth": 2
          },
          "yaxis": {
           "automargin": true,
           "gridcolor": "white",
           "linecolor": "white",
           "ticks": "",
           "title": {
            "standoff": 15
           },
           "zerolinecolor": "white",
           "zerolinewidth": 2
          }
         }
        },
        "width": 800,
        "xaxis": {
         "anchor": "y",
         "constrain": "domain",
         "domain": [
          0,
          1
         ],
         "scaleanchor": "y"
        },
        "yaxis": {
         "anchor": "x",
         "autorange": "reversed",
         "constrain": "domain",
         "domain": [
          0,
          1
         ]
        }
       }
      }
     },
     "metadata": {},
     "output_type": "display_data"
    }
   ],
   "source": [
    "vector_encoding = [\n",
    "    #results_structure[chord_id]['feature_vector'] \n",
    "    #+\n",
    "      results_intervals_theory[chord_id]['feature_vector']\n",
    "    for chord_id in results_intervals_theory.keys()\n",
    "]\n",
    "\n",
    "print(vector_encoding)\n",
    "# Realiza MDS en los datos\n",
    "vector_encoding_mds,matrix =ce.perform_mds2(vector_encoding)\n",
    "cg.plot_chords_with_selection(vector_encoding_mds,matrix, chord_ids, results_intervals_theory,True )\n",
    "\n"
   ]
  },
  {
   "cell_type": "code",
   "execution_count": 6,
   "metadata": {},
   "outputs": [
    {
     "name": "stdout",
     "output_type": "stream",
     "text": [
      "chord_0 [0, 0, 4.741198056768631, 3.7039072555084953, 0, 0, 0.521266964234618, 0, 0, 0, 0]\n",
      "chord_1 [0, 0, 4.741198056768631, 0, 0.7798994489402729, 0, 0, 0.0878685307938039, 0, 0, 0]\n",
      "chord_2 [0, 0, 0, 0.9767088023539988, 0.7798994489402729, 0, 0, 0, 0.012172647761089065, 0, 0]\n",
      "chord_3 [0, 0, 6.003738720888554, 2.8035027673272617, 0, 0, 0.521266964234618, 0, 0, 0, 0]\n",
      "chord_4 [0, 0, 0, 2.8035027673272617, 0.7798994489402729, 0, 0, 0, 0.043528176471628974, 0, 0]\n",
      "chord_5 [0, 0, 2.5324402594099444, 0, 0.7798994489402729, 0, 0, 0.03828426553886269, 0, 0, 0]\n",
      "chord_6 [0, 0, 11.059214089452329, 0, 0, 1.073363587919284, 0, 0, 0, 0, 0]\n",
      "chord_7 [0, 0, 5.055475368563775, 0, 0, 0.37367482919421147, 0, 0, 0.043528176471628974, 0, 0]\n",
      "chord_8 [0, 0, 2.5324402594099444, 0, 0, 0.37367482919421147, 0, 0, 0.016953031076046156, 0, 0]\n",
      "Número de iteraciones: 361, Stress: 0.603650457315874\n",
      "['C', 'C/E', 'C/G', 'Cm', 'Cm/D#', 'Cm/G', 'Cdim', 'Cdim/D#', 'Cdim/F#']\n"
     ]
    },
    {
     "data": {
      "application/vnd.jupyter.widget-view+json": {
       "model_id": "b98603585a024accad44a589976d55d0",
       "version_major": 2,
       "version_minor": 0
      },
      "text/plain": [
       "Dropdown(description='Chord ID:', options=(('Chord ID: chord_0, C', 'chord_0'), ('Chord ID: chord_1, C/E', 'ch…"
      ]
     },
     "metadata": {},
     "output_type": "display_data"
    },
    {
     "data": {
      "application/vnd.jupyter.widget-view+json": {
       "model_id": "02afae22a4bc4a9d89e2177fae902cab",
       "version_major": 2,
       "version_minor": 0
      },
      "text/plain": [
       "FigureWidget({\n",
       "    'data': [{'hoverinfo': 'text',\n",
       "              'hovertext': [Root: C<br>Bass: C<br>Octave: 4<br>Degree:\n",
       "                            1<br>Intervals: [4, 3], Root: C<br>Bass: E<br>Octave:\n",
       "                            4<br>Degree: 1<br>Intervals: [4, 3], Root: C<br>Bass:\n",
       "                            G<br>Octave: 4<br>Degree: 1<br>Intervals: [4, 3], Root:\n",
       "                            C<br>Bass: C<br>Octave: 4<br>Degree: 1<br>Intervals:\n",
       "                            [3, 4], Root: C<br>Bass: D#<br>Octave: 4<br>Degree:\n",
       "                            1<br>Intervals: [3, 4], Root: C<br>Bass: G<br>Octave:\n",
       "                            4<br>Degree: 1<br>Intervals: [3, 4], Root: C<br>Bass:\n",
       "                            C<br>Octave: 4<br>Degree: 1<br>Intervals: [3, 3], Root:\n",
       "                            C<br>Bass: D#<br>Octave: 4<br>Degree: 1<br>Intervals:\n",
       "                            [3, 3], Root: C<br>Bass: F#<br>Octave: 4<br>Degree:\n",
       "                            1<br>Intervals: [3, 3]],\n",
       "              'marker': {'color': [black, black, black, black, black, black,\n",
       "                                   black, black, black],\n",
       "                         'size': 13,\n",
       "                         'symbol': [circle, circle, circle, circle, circle,\n",
       "                                    circle, circle, circle, circle]},\n",
       "              'mode': 'markers+text',\n",
       "              'text': [C, C/E, C/G, Cm, Cm/D#, Cm/G, Cdim, Cdim/D#, Cdim/F#],\n",
       "              'textposition': 'top center',\n",
       "              'type': 'scatter',\n",
       "              'uid': '5f1da44a-5fc5-4fa8-91cf-cce9c50428ab',\n",
       "              'x': array([-1.96123227,  0.16703557,  3.58401534, -2.56484756,  2.62777409,\n",
       "                           1.85753845, -5.36144881, -0.36351887,  2.01468407]),\n",
       "              'y': array([-1.86398191,  1.35994491, -2.02556499, -0.4520541 , -3.57360761,\n",
       "                          -0.05553914,  4.72732063,  1.49652102,  0.38696118])}],\n",
       "    'layout': {'autosize': False,\n",
       "               'height': 800,\n",
       "               'showlegend': False,\n",
       "               'template': '...',\n",
       "               'title': {'text': 'Chord Representation (2D)'},\n",
       "               'width': 800,\n",
       "               'xaxis': {'autorange': False, 'range': [-6.361448805705525, 4.584015344589009], 'title': {'text': ''}},\n",
       "               'yaxis': {'autorange': False,\n",
       "                         'range': [-4.573607614015673, 5.727320630968223],\n",
       "                         'scaleanchor': 'x',\n",
       "                         'scaleratio': 1,\n",
       "                         'title': {'text': ''}}}\n",
       "})"
      ]
     },
     "metadata": {},
     "output_type": "display_data"
    },
    {
     "data": {
      "application/vnd.plotly.v1+json": {
       "config": {
        "plotlyServerURL": "https://plot.ly"
       },
       "data": [
        {
         "coloraxis": "coloraxis",
         "hovertemplate": "x: %{x}<br>y: %{y}<br>Dissimilarity: %{z}<extra></extra>",
         "name": "0",
         "type": "heatmap",
         "x": [
          "C",
          "C/E",
          "C/G",
          "Cm",
          "Cm/D#",
          "Cm/G",
          "Cdim",
          "Cdim/D#",
          "Cdim/F#"
         ],
         "xaxis": "x",
         "y": [
          "C",
          "C/E",
          "C/G",
          "Cm",
          "Cm/D#",
          "Cm/G",
          "Cdim",
          "Cdim/D#",
          "Cdim/F#"
         ],
         "yaxis": "y",
         "z": [
          [
           0,
           3.8218597874035165,
           5.549475739942301,
           1.550721500106736,
           4.916456483734013,
           4.413498391100742,
           7.420248256394799,
           3.772392611359573,
           4.359951776802082
          ],
          [
           3.8218597874035165,
           0,
           4.841568769537391,
           3.215792277516004,
           5.508920253622216,
           2.2093142842867945,
           6.45642315917106,
           0.9253441727220492,
           2.3737091902316068
          ],
          [
           5.549475739942301,
           4.841568769537391,
           0,
           6.345247464912027,
           1.8270630420550498,
           2.714558455885129,
           11.181264556239535,
           5.221173286184074,
           2.8487036758096465
          ],
          [
           1.550721500106736,
           3.215792277516004,
           6.345247464912027,
           0,
           6.0767372601835605,
           4.55971148851799,
           5.90265089671073,
           3.0285438712187225,
           4.507901984994099
          ],
          [
           4.916456483734013,
           5.508920253622216,
           1.8270630420550498,
           6.0767372601835605,
           0,
           3.7783914330077977,
           11.485995441720661,
           5.8451120602600355,
           3.875753307510087
          ],
          [
           4.413498391100742,
           2.2093142842867945,
           2.714558455885129,
           4.55971148851799,
           3.7783914330077977,
           0,
           8.629466389992594,
           2.667759842562359,
           0.865811248876555
          ],
          [
           7.420248256394799,
           6.45642315917106,
           11.181264556239535,
           5.90265089671073,
           11.485995441720661,
           8.629466389992594,
           0,
           6.044529567297169,
           8.555449942173968
          ],
          [
           3.772392611359573,
           0.9253441727220492,
           5.221173286184074,
           3.0285438712187225,
           5.8451120602600355,
           2.667759842562359,
           6.044529567297169,
           0,
           2.5231750633627623
          ],
          [
           4.359951776802082,
           2.3737091902316068,
           2.8487036758096465,
           4.507901984994099,
           3.875753307510087,
           0.865811248876555,
           8.555449942173968,
           2.5231750633627623,
           0
          ]
         ]
        }
       ],
       "layout": {
        "autosize": false,
        "coloraxis": {
         "colorbar": {
          "len": 0.55,
          "title": {
           "text": "Dissimilarity"
          },
          "x": 1.1
         },
         "colorscale": [
          [
           0,
           "#0d0887"
          ],
          [
           0.1111111111111111,
           "#46039f"
          ],
          [
           0.2222222222222222,
           "#7201a8"
          ],
          [
           0.3333333333333333,
           "#9c179e"
          ],
          [
           0.4444444444444444,
           "#bd3786"
          ],
          [
           0.5555555555555556,
           "#d8576b"
          ],
          [
           0.6666666666666666,
           "#ed7953"
          ],
          [
           0.7777777777777778,
           "#fb9f3a"
          ],
          [
           0.8888888888888888,
           "#fdca26"
          ],
          [
           1,
           "#f0f921"
          ]
         ]
        },
        "height": 800,
        "margin": {
         "b": 100,
         "l": 50,
         "pad": 4,
         "r": 50,
         "t": 100
        },
        "template": {
         "data": {
          "bar": [
           {
            "error_x": {
             "color": "#2a3f5f"
            },
            "error_y": {
             "color": "#2a3f5f"
            },
            "marker": {
             "line": {
              "color": "#E5ECF6",
              "width": 0.5
             },
             "pattern": {
              "fillmode": "overlay",
              "size": 10,
              "solidity": 0.2
             }
            },
            "type": "bar"
           }
          ],
          "barpolar": [
           {
            "marker": {
             "line": {
              "color": "#E5ECF6",
              "width": 0.5
             },
             "pattern": {
              "fillmode": "overlay",
              "size": 10,
              "solidity": 0.2
             }
            },
            "type": "barpolar"
           }
          ],
          "carpet": [
           {
            "aaxis": {
             "endlinecolor": "#2a3f5f",
             "gridcolor": "white",
             "linecolor": "white",
             "minorgridcolor": "white",
             "startlinecolor": "#2a3f5f"
            },
            "baxis": {
             "endlinecolor": "#2a3f5f",
             "gridcolor": "white",
             "linecolor": "white",
             "minorgridcolor": "white",
             "startlinecolor": "#2a3f5f"
            },
            "type": "carpet"
           }
          ],
          "choropleth": [
           {
            "colorbar": {
             "outlinewidth": 0,
             "ticks": ""
            },
            "type": "choropleth"
           }
          ],
          "contour": [
           {
            "colorbar": {
             "outlinewidth": 0,
             "ticks": ""
            },
            "colorscale": [
             [
              0,
              "#0d0887"
             ],
             [
              0.1111111111111111,
              "#46039f"
             ],
             [
              0.2222222222222222,
              "#7201a8"
             ],
             [
              0.3333333333333333,
              "#9c179e"
             ],
             [
              0.4444444444444444,
              "#bd3786"
             ],
             [
              0.5555555555555556,
              "#d8576b"
             ],
             [
              0.6666666666666666,
              "#ed7953"
             ],
             [
              0.7777777777777778,
              "#fb9f3a"
             ],
             [
              0.8888888888888888,
              "#fdca26"
             ],
             [
              1,
              "#f0f921"
             ]
            ],
            "type": "contour"
           }
          ],
          "contourcarpet": [
           {
            "colorbar": {
             "outlinewidth": 0,
             "ticks": ""
            },
            "type": "contourcarpet"
           }
          ],
          "heatmap": [
           {
            "colorbar": {
             "outlinewidth": 0,
             "ticks": ""
            },
            "colorscale": [
             [
              0,
              "#0d0887"
             ],
             [
              0.1111111111111111,
              "#46039f"
             ],
             [
              0.2222222222222222,
              "#7201a8"
             ],
             [
              0.3333333333333333,
              "#9c179e"
             ],
             [
              0.4444444444444444,
              "#bd3786"
             ],
             [
              0.5555555555555556,
              "#d8576b"
             ],
             [
              0.6666666666666666,
              "#ed7953"
             ],
             [
              0.7777777777777778,
              "#fb9f3a"
             ],
             [
              0.8888888888888888,
              "#fdca26"
             ],
             [
              1,
              "#f0f921"
             ]
            ],
            "type": "heatmap"
           }
          ],
          "heatmapgl": [
           {
            "colorbar": {
             "outlinewidth": 0,
             "ticks": ""
            },
            "colorscale": [
             [
              0,
              "#0d0887"
             ],
             [
              0.1111111111111111,
              "#46039f"
             ],
             [
              0.2222222222222222,
              "#7201a8"
             ],
             [
              0.3333333333333333,
              "#9c179e"
             ],
             [
              0.4444444444444444,
              "#bd3786"
             ],
             [
              0.5555555555555556,
              "#d8576b"
             ],
             [
              0.6666666666666666,
              "#ed7953"
             ],
             [
              0.7777777777777778,
              "#fb9f3a"
             ],
             [
              0.8888888888888888,
              "#fdca26"
             ],
             [
              1,
              "#f0f921"
             ]
            ],
            "type": "heatmapgl"
           }
          ],
          "histogram": [
           {
            "marker": {
             "pattern": {
              "fillmode": "overlay",
              "size": 10,
              "solidity": 0.2
             }
            },
            "type": "histogram"
           }
          ],
          "histogram2d": [
           {
            "colorbar": {
             "outlinewidth": 0,
             "ticks": ""
            },
            "colorscale": [
             [
              0,
              "#0d0887"
             ],
             [
              0.1111111111111111,
              "#46039f"
             ],
             [
              0.2222222222222222,
              "#7201a8"
             ],
             [
              0.3333333333333333,
              "#9c179e"
             ],
             [
              0.4444444444444444,
              "#bd3786"
             ],
             [
              0.5555555555555556,
              "#d8576b"
             ],
             [
              0.6666666666666666,
              "#ed7953"
             ],
             [
              0.7777777777777778,
              "#fb9f3a"
             ],
             [
              0.8888888888888888,
              "#fdca26"
             ],
             [
              1,
              "#f0f921"
             ]
            ],
            "type": "histogram2d"
           }
          ],
          "histogram2dcontour": [
           {
            "colorbar": {
             "outlinewidth": 0,
             "ticks": ""
            },
            "colorscale": [
             [
              0,
              "#0d0887"
             ],
             [
              0.1111111111111111,
              "#46039f"
             ],
             [
              0.2222222222222222,
              "#7201a8"
             ],
             [
              0.3333333333333333,
              "#9c179e"
             ],
             [
              0.4444444444444444,
              "#bd3786"
             ],
             [
              0.5555555555555556,
              "#d8576b"
             ],
             [
              0.6666666666666666,
              "#ed7953"
             ],
             [
              0.7777777777777778,
              "#fb9f3a"
             ],
             [
              0.8888888888888888,
              "#fdca26"
             ],
             [
              1,
              "#f0f921"
             ]
            ],
            "type": "histogram2dcontour"
           }
          ],
          "mesh3d": [
           {
            "colorbar": {
             "outlinewidth": 0,
             "ticks": ""
            },
            "type": "mesh3d"
           }
          ],
          "parcoords": [
           {
            "line": {
             "colorbar": {
              "outlinewidth": 0,
              "ticks": ""
             }
            },
            "type": "parcoords"
           }
          ],
          "pie": [
           {
            "automargin": true,
            "type": "pie"
           }
          ],
          "scatter": [
           {
            "fillpattern": {
             "fillmode": "overlay",
             "size": 10,
             "solidity": 0.2
            },
            "type": "scatter"
           }
          ],
          "scatter3d": [
           {
            "line": {
             "colorbar": {
              "outlinewidth": 0,
              "ticks": ""
             }
            },
            "marker": {
             "colorbar": {
              "outlinewidth": 0,
              "ticks": ""
             }
            },
            "type": "scatter3d"
           }
          ],
          "scattercarpet": [
           {
            "marker": {
             "colorbar": {
              "outlinewidth": 0,
              "ticks": ""
             }
            },
            "type": "scattercarpet"
           }
          ],
          "scattergeo": [
           {
            "marker": {
             "colorbar": {
              "outlinewidth": 0,
              "ticks": ""
             }
            },
            "type": "scattergeo"
           }
          ],
          "scattergl": [
           {
            "marker": {
             "colorbar": {
              "outlinewidth": 0,
              "ticks": ""
             }
            },
            "type": "scattergl"
           }
          ],
          "scattermapbox": [
           {
            "marker": {
             "colorbar": {
              "outlinewidth": 0,
              "ticks": ""
             }
            },
            "type": "scattermapbox"
           }
          ],
          "scatterpolar": [
           {
            "marker": {
             "colorbar": {
              "outlinewidth": 0,
              "ticks": ""
             }
            },
            "type": "scatterpolar"
           }
          ],
          "scatterpolargl": [
           {
            "marker": {
             "colorbar": {
              "outlinewidth": 0,
              "ticks": ""
             }
            },
            "type": "scatterpolargl"
           }
          ],
          "scatterternary": [
           {
            "marker": {
             "colorbar": {
              "outlinewidth": 0,
              "ticks": ""
             }
            },
            "type": "scatterternary"
           }
          ],
          "surface": [
           {
            "colorbar": {
             "outlinewidth": 0,
             "ticks": ""
            },
            "colorscale": [
             [
              0,
              "#0d0887"
             ],
             [
              0.1111111111111111,
              "#46039f"
             ],
             [
              0.2222222222222222,
              "#7201a8"
             ],
             [
              0.3333333333333333,
              "#9c179e"
             ],
             [
              0.4444444444444444,
              "#bd3786"
             ],
             [
              0.5555555555555556,
              "#d8576b"
             ],
             [
              0.6666666666666666,
              "#ed7953"
             ],
             [
              0.7777777777777778,
              "#fb9f3a"
             ],
             [
              0.8888888888888888,
              "#fdca26"
             ],
             [
              1,
              "#f0f921"
             ]
            ],
            "type": "surface"
           }
          ],
          "table": [
           {
            "cells": {
             "fill": {
              "color": "#EBF0F8"
             },
             "line": {
              "color": "white"
             }
            },
            "header": {
             "fill": {
              "color": "#C8D4E3"
             },
             "line": {
              "color": "white"
             }
            },
            "type": "table"
           }
          ]
         },
         "layout": {
          "annotationdefaults": {
           "arrowcolor": "#2a3f5f",
           "arrowhead": 0,
           "arrowwidth": 1
          },
          "autotypenumbers": "strict",
          "coloraxis": {
           "colorbar": {
            "outlinewidth": 0,
            "ticks": ""
           }
          },
          "colorscale": {
           "diverging": [
            [
             0,
             "#8e0152"
            ],
            [
             0.1,
             "#c51b7d"
            ],
            [
             0.2,
             "#de77ae"
            ],
            [
             0.3,
             "#f1b6da"
            ],
            [
             0.4,
             "#fde0ef"
            ],
            [
             0.5,
             "#f7f7f7"
            ],
            [
             0.6,
             "#e6f5d0"
            ],
            [
             0.7,
             "#b8e186"
            ],
            [
             0.8,
             "#7fbc41"
            ],
            [
             0.9,
             "#4d9221"
            ],
            [
             1,
             "#276419"
            ]
           ],
           "sequential": [
            [
             0,
             "#0d0887"
            ],
            [
             0.1111111111111111,
             "#46039f"
            ],
            [
             0.2222222222222222,
             "#7201a8"
            ],
            [
             0.3333333333333333,
             "#9c179e"
            ],
            [
             0.4444444444444444,
             "#bd3786"
            ],
            [
             0.5555555555555556,
             "#d8576b"
            ],
            [
             0.6666666666666666,
             "#ed7953"
            ],
            [
             0.7777777777777778,
             "#fb9f3a"
            ],
            [
             0.8888888888888888,
             "#fdca26"
            ],
            [
             1,
             "#f0f921"
            ]
           ],
           "sequentialminus": [
            [
             0,
             "#0d0887"
            ],
            [
             0.1111111111111111,
             "#46039f"
            ],
            [
             0.2222222222222222,
             "#7201a8"
            ],
            [
             0.3333333333333333,
             "#9c179e"
            ],
            [
             0.4444444444444444,
             "#bd3786"
            ],
            [
             0.5555555555555556,
             "#d8576b"
            ],
            [
             0.6666666666666666,
             "#ed7953"
            ],
            [
             0.7777777777777778,
             "#fb9f3a"
            ],
            [
             0.8888888888888888,
             "#fdca26"
            ],
            [
             1,
             "#f0f921"
            ]
           ]
          },
          "colorway": [
           "#636efa",
           "#EF553B",
           "#00cc96",
           "#ab63fa",
           "#FFA15A",
           "#19d3f3",
           "#FF6692",
           "#B6E880",
           "#FF97FF",
           "#FECB52"
          ],
          "font": {
           "color": "#2a3f5f"
          },
          "geo": {
           "bgcolor": "white",
           "lakecolor": "white",
           "landcolor": "#E5ECF6",
           "showlakes": true,
           "showland": true,
           "subunitcolor": "white"
          },
          "hoverlabel": {
           "align": "left"
          },
          "hovermode": "closest",
          "mapbox": {
           "style": "light"
          },
          "paper_bgcolor": "white",
          "plot_bgcolor": "#E5ECF6",
          "polar": {
           "angularaxis": {
            "gridcolor": "white",
            "linecolor": "white",
            "ticks": ""
           },
           "bgcolor": "#E5ECF6",
           "radialaxis": {
            "gridcolor": "white",
            "linecolor": "white",
            "ticks": ""
           }
          },
          "scene": {
           "xaxis": {
            "backgroundcolor": "#E5ECF6",
            "gridcolor": "white",
            "gridwidth": 2,
            "linecolor": "white",
            "showbackground": true,
            "ticks": "",
            "zerolinecolor": "white"
           },
           "yaxis": {
            "backgroundcolor": "#E5ECF6",
            "gridcolor": "white",
            "gridwidth": 2,
            "linecolor": "white",
            "showbackground": true,
            "ticks": "",
            "zerolinecolor": "white"
           },
           "zaxis": {
            "backgroundcolor": "#E5ECF6",
            "gridcolor": "white",
            "gridwidth": 2,
            "linecolor": "white",
            "showbackground": true,
            "ticks": "",
            "zerolinecolor": "white"
           }
          },
          "shapedefaults": {
           "line": {
            "color": "#2a3f5f"
           }
          },
          "ternary": {
           "aaxis": {
            "gridcolor": "white",
            "linecolor": "white",
            "ticks": ""
           },
           "baxis": {
            "gridcolor": "white",
            "linecolor": "white",
            "ticks": ""
           },
           "bgcolor": "#E5ECF6",
           "caxis": {
            "gridcolor": "white",
            "linecolor": "white",
            "ticks": ""
           }
          },
          "title": {
           "x": 0.05
          },
          "xaxis": {
           "automargin": true,
           "gridcolor": "white",
           "linecolor": "white",
           "ticks": "",
           "title": {
            "standoff": 15
           },
           "zerolinecolor": "white",
           "zerolinewidth": 2
          },
          "yaxis": {
           "automargin": true,
           "gridcolor": "white",
           "linecolor": "white",
           "ticks": "",
           "title": {
            "standoff": 15
           },
           "zerolinecolor": "white",
           "zerolinewidth": 2
          }
         }
        },
        "width": 800,
        "xaxis": {
         "anchor": "y",
         "constrain": "domain",
         "domain": [
          0,
          1
         ],
         "scaleanchor": "y"
        },
        "yaxis": {
         "anchor": "x",
         "autorange": "reversed",
         "constrain": "domain",
         "domain": [
          0,
          1
         ]
        }
       }
      }
     },
     "metadata": {},
     "output_type": "display_data"
    }
   ],
   "source": [
    "vector_encoding5 = [\n",
    "\n",
    "     [10*x for x in results_intervals_histo_12[chord_id]['feature_vector']]\n",
    "     #results_polar_degree[chord_id]['feature_vector'] +\n",
    "     #results_intervals_histo_12[chord_id]['feature_vector']\n",
    "     #+\n",
    "     #results_binary_intervals_12[chord_id]['feature_vector']\n",
    "     #+\n",
    "     #results_binary_notes[chord_id]['feature_vector']\n",
    "    #results_polar_notes[chord_id]['feature_vector']\n",
    "    for chord_id in results_intervals_theory.keys()\n",
    "]\n",
    "i=0\n",
    "\n",
    "for v in vector_encoding5:\n",
    "    print(chord_ids[i],v)\n",
    "    i+=1\n",
    "# Realiza MDS en los datos\n",
    "vector_encoding_mds5,matrix = ce.perform_mds2(vector_encoding5,'euclidean')\n",
    "#vector_encoding_mds5_our, matrix2=ce.perform_mds2(vector_encoding5,'euclidean')\n",
    "cg.plot_chords_with_selection(vector_encoding_mds5,matrix, chord_ids, results_binary_intervals_12,True)"
   ]
  },
  {
   "cell_type": "code",
   "execution_count": 7,
   "metadata": {},
   "outputs": [],
   "source": [
    "\n",
    "def inversion_to_frequencies(chord):\n",
    "    \"\"\"Calcula la inversión del acorde y convierte a frecuencias considerando octavas correctas.\"\"\"\n",
    "    A4_FREQ = 440  # Frecuencia de A4\n",
    "    A4_NOTE = 9    # Valor numérico de A en el sistema de 12 semitonos\n",
    "    A4_OCTAVE = 4  # Octava de A4\n",
    "\n",
    "    reordered_sequence=ce.inversion_from_bass(chord)\n",
    "\n",
    "    # Inicia la octava para la primera nota basada en el bajo y ajusta según la secuencia\n",
    "    octave = chord['octave']\n",
    "    previous_note = chord['bass']  # Comienza con el bajo como referencia\n",
    "    frequencies = []\n",
    "\n",
    "    for note in reordered_sequence:\n",
    "        if note < previous_note:  # Si la nota actual es menor que la anterior, aumenta la octava\n",
    "            octave += 1\n",
    "        frequency = A4_FREQ * 2 ** (((note + (octave - A4_OCTAVE) * 12) - A4_NOTE) / 12)\n",
    "        frequencies.append(frequency)\n",
    "        previous_note = note  # Actualiza la nota anterior para la siguiente iteración\n",
    "\n",
    "    return frequencies\n",
    "\n",
    "def dissmeasure_fixed_amp(fvec, fixed_amp=1, model='min'):\n",
    "    sort_idx = np.argsort(fvec)\n",
    "    fr_sorted = np.asarray(fvec)[sort_idx]\n",
    "\n",
    "    Dstar = 0.24\n",
    "    S1 = 0.0207\n",
    "    S2 = 18.96\n",
    "\n",
    "    C1 = 5\n",
    "    C2 = -5\n",
    "\n",
    "    A1 = -3.51\n",
    "    A2 = -5.75\n",
    "\n",
    "    idx = np.transpose(np.triu_indices(len(fr_sorted), 1))\n",
    "    fr_pairs = fr_sorted[idx]\n",
    "\n",
    "    Fmin = fr_pairs[:, 0]\n",
    "    S = Dstar / (S1 * Fmin + S2)\n",
    "    Fdif = fr_pairs[:, 1] - fr_pairs[:, 0]\n",
    "\n",
    "    # Usando una amplitud fija en lugar de variables basadas en el modelo\n",
    "    a = fixed_amp  # Amplitud constante para todos los pares\n",
    "    SFdif = S * Fdif\n",
    "    D = np.sum(a * (C1 * np.exp(A1 * SFdif) + C2 * np.exp(A2 * SFdif)))\n",
    "\n",
    "    return D"
   ]
  },
  {
   "cell_type": "code",
   "execution_count": 8,
   "metadata": {},
   "outputs": [
    {
     "data": {
      "text/plain": [
       "{'name': 'C Dim',\n",
       " 'octave': 4,\n",
       " 'bass': 0,\n",
       " 'root': 0,\n",
       " 'degree': 1,\n",
       " 'intervals': [3, 3]}"
      ]
     },
     "execution_count": 8,
     "metadata": {},
     "output_type": "execute_result"
    }
   ],
   "source": [
    "chords[6]"
   ]
  },
  {
   "cell_type": "code",
   "execution_count": 9,
   "metadata": {},
   "outputs": [
    {
     "name": "stdout",
     "output_type": "stream",
     "text": [
      "261.6255653005986 311.1269837220809 0.6003738720888554\n",
      "261.6255653005986 369.9944227116344 0.10733635879192839\n",
      "311.1269837220809 369.9944227116344 0.5055475368563775\n"
     ]
    },
    {
     "data": {
      "text/plain": [
       "{'chord': {'name': 'C Dim',\n",
       "  'octave': 4,\n",
       "  'bass': 0,\n",
       "  'root': 0,\n",
       "  'degree': 1,\n",
       "  'intervals': [3, 3]},\n",
       " 'feature_vector': [0,\n",
       "  0,\n",
       "  1.105921408945233,\n",
       "  0,\n",
       "  0,\n",
       "  0.10733635879192839,\n",
       "  0,\n",
       "  0,\n",
       "  0,\n",
       "  0,\n",
       "  0],\n",
       " 'chord_id': 6}"
      ]
     },
     "execution_count": 9,
     "metadata": {},
     "output_type": "execute_result"
    }
   ],
   "source": [
    "ce.interval_histogram_with_dissmeasure(chords[6],6)"
   ]
  },
  {
   "cell_type": "code",
   "execution_count": 10,
   "metadata": {},
   "outputs": [
    {
     "name": "stdout",
     "output_type": "stream",
     "text": [
      "261.6255653005986 311.1269837220809 0.6003738720888554\n",
      "261.6255653005986 391.99543598174927 0.0521266964234618\n",
      "311.1269837220809 391.99543598174927 0.28035027673272617\n"
     ]
    },
    {
     "data": {
      "text/plain": [
       "{'chord': {'name': 'C Minor',\n",
       "  'octave': 4,\n",
       "  'bass': 0,\n",
       "  'root': 0,\n",
       "  'degree': 1,\n",
       "  'intervals': [3, 4]},\n",
       " 'feature_vector': [0,\n",
       "  0,\n",
       "  0.6003738720888554,\n",
       "  0.28035027673272617,\n",
       "  0,\n",
       "  0,\n",
       "  0.0521266964234618,\n",
       "  0,\n",
       "  0,\n",
       "  0,\n",
       "  0],\n",
       " 'chord_id': 3}"
      ]
     },
     "execution_count": 10,
     "metadata": {},
     "output_type": "execute_result"
    }
   ],
   "source": [
    "ce.interval_histogram_with_dissmeasure(chords[3],3)"
   ]
  },
  {
   "cell_type": "code",
   "execution_count": 11,
   "metadata": {},
   "outputs": [
    {
     "ename": "SyntaxError",
     "evalue": "invalid syntax (3057979314.py, line 1)",
     "output_type": "error",
     "traceback": [
      "\u001b[0;36m  Cell \u001b[0;32mIn[11], line 1\u001b[0;36m\u001b[0m\n\u001b[0;31m    dissmeasure_fixed_amp[]\u001b[0m\n\u001b[0m                          ^\u001b[0m\n\u001b[0;31mSyntaxError\u001b[0m\u001b[0;31m:\u001b[0m invalid syntax\n"
     ]
    }
   ],
   "source": [
    "dissmeasure_fixed_amp[]"
   ]
  },
  {
   "cell_type": "code",
   "execution_count": null,
   "metadata": {},
   "outputs": [],
   "source": []
  }
 ],
 "metadata": {
  "kernelspec": {
   "display_name": "env",
   "language": "python",
   "name": "python3"
  },
  "language_info": {
   "codemirror_mode": {
    "name": "ipython",
    "version": 3
   },
   "file_extension": ".py",
   "mimetype": "text/x-python",
   "name": "python",
   "nbconvert_exporter": "python",
   "pygments_lexer": "ipython3",
   "version": "3.9.13"
  }
 },
 "nbformat": 4,
 "nbformat_minor": 2
}
